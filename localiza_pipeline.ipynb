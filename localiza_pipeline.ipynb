{
 "cells": [
  {
   "cell_type": "code",
   "execution_count": 1,
   "metadata": {},
   "outputs": [],
   "source": [
    "import pandas as pd\n",
    "import numpy as np\n",
    "import requests\n",
    "import time\n",
    "import re, string\n",
    "import unicodedata\n",
    "import six\n",
    "from MessageClearFunctions import *"
   ]
  },
  {
   "cell_type": "code",
   "execution_count": 5,
   "metadata": {},
   "outputs": [
    {
     "name": "stderr",
     "output_type": "stream",
     "text": [
      "C:\\ProgramData\\Anaconda3\\lib\\site-packages\\ipykernel_launcher.py:5: SettingWithCopyWarning: \n",
      "A value is trying to be set on a copy of a slice from a DataFrame.\n",
      "Try using .loc[row_indexer,col_indexer] = value instead\n",
      "\n",
      "See the caveats in the documentation: http://pandas.pydata.org/pandas-docs/stable/indexing.html#indexing-view-versus-copy\n",
      "  \"\"\"\n"
     ]
    }
   ],
   "source": [
    "# leitura e pré-processamento dos dados\n",
    "data = pd.read_csv('localizawa_novembro.csv',sep='|',encoding='utf-8')\n",
    "data[['SequentialId','Content']].to_csv('localizawa_novembro_full.csv',sep='|',encoding='utf-8',index=False)\n",
    "clear_data = data[data['Content'].apply(is_significant) & data['Content'].apply(is_trash)]\n",
    "clear_data['Content'] = clear_data['Content'].apply(pre_processing)"
   ]
  },
  {
   "cell_type": "code",
   "execution_count": 3,
   "metadata": {},
   "outputs": [
    {
     "name": "stdout",
     "output_type": "stream",
     "text": [
      "Process finished! Time elapsed = 13.365516662597656 seconds\n",
      "Process finished! Time elapsed = 11.910441398620605 seconds\n",
      "Process finished! Time elapsed = 14.183250427246094 seconds\n",
      "Process finished! Time elapsed = 11.41422152519226 seconds\n",
      "Process finished! Time elapsed = 12.473191022872925 seconds\n",
      "Process finished! Time elapsed = 12.30746340751648 seconds\n",
      "Process finished! Time elapsed = 11.733430624008179 seconds\n",
      "Process finished! Time elapsed = 11.860683917999268 seconds\n",
      "Process finished! Time elapsed = 11.708279371261597 seconds\n",
      "Process finished! Time elapsed = 11.51487421989441 seconds\n"
     ]
    }
   ],
   "source": [
    "requests_01 = smalltalk_requests_without_normalization(clear_data, 5, 'localizawa')\n",
    "requests_02 = smalltalk_requests_with_normalization(clear_data, 5, 'localizawa')"
   ]
  },
  {
   "cell_type": "code",
   "execution_count": 4,
   "metadata": {},
   "outputs": [
    {
     "name": "stdout",
     "output_type": "stream",
     "text": [
      "Process finished! Time elapsed = 8.131179571151733 seconds\n",
      "Process finished! Time elapsed = 8.868100643157959 seconds\n",
      "Process finished! Time elapsed = 7.4906165599823 seconds\n",
      "Process finished! Time elapsed = 7.14587664604187 seconds\n",
      "Process finished! Time elapsed = 6.853852987289429 seconds\n",
      "Process finished! Time elapsed = 6.774760007858276 seconds\n",
      "Process finished! Time elapsed = 6.904479742050171 seconds\n",
      "Process finished! Time elapsed = 7.539159774780273 seconds\n",
      "Process finished! Time elapsed = 7.050660610198975 seconds\n",
      "Process finished! Time elapsed = 7.115802764892578 seconds\n"
     ]
    }
   ],
   "source": [
    "t1 = []\n",
    "for request in requests_01:\n",
    "    begin = time.time()\n",
    "    t1.append(converting_response_from_API(request))\n",
    "    end = time.time()\n",
    "    print('Process finished! Time elapsed = ' + str((end - begin)) +' seconds')\n",
    "    \n",
    "t2 = []\n",
    "for request in requests_02:\n",
    "    begin = time.time()\n",
    "    t2.append(converting_response_from_API(request))\n",
    "    end = time.time()\n",
    "    print('Process finished! Time elapsed = ' + str((end - begin)) +' seconds')"
   ]
  },
  {
   "cell_type": "code",
   "execution_count": 7,
   "metadata": {},
   "outputs": [],
   "source": [
    "api_result1 = pd.DataFrame(data = None)\n",
    "for dataframe in t1:\n",
    "    api_result1 = api_result1.append(dataframe).reset_index(drop = True)\n",
    "    \n",
    "api_result2 = pd.DataFrame(data = None)\n",
    "for dataframe in t2:\n",
    "    api_result2 = api_result2.append(dataframe).reset_index(drop = True)"
   ]
  },
  {
   "cell_type": "code",
   "execution_count": 8,
   "metadata": {},
   "outputs": [
    {
     "name": "stdout",
     "output_type": "stream",
     "text": [
      "Process finished! Time elapsed = 139.48338985443115 seconds\n"
     ]
    }
   ],
   "source": [
    "begin = time.time()\n",
    "api_result1['RelevantInput'] = api_result1['RelevantInput'].apply(remove_whatsapp_emojis)\n",
    "api_result1['CleanedInput'] = api_result1['CleanedInput'].apply(remove_whatsapp_emojis)\n",
    "api_result1['MarkedInput'] = api_result1['MarkedInput'].apply(remove_whatsapp_emojis)\n",
    "\n",
    "api_result1['RelevantInput'] = api_result1['RelevantInput'].apply(str_strip)\n",
    "api_result1['CleanedInput'] = api_result1['CleanedInput'].apply(str_strip)\n",
    "end = time.time()\n",
    "\n",
    "print('Process finished! Time elapsed = ' + str((end - begin)) +' seconds')"
   ]
  },
  {
   "cell_type": "code",
   "execution_count": 9,
   "metadata": {},
   "outputs": [
    {
     "name": "stdout",
     "output_type": "stream",
     "text": [
      "Process finished! Time elapsed = 141.4298071861267 seconds\n"
     ]
    }
   ],
   "source": [
    "begin = time.time()\n",
    "api_result2['RelevantInput'] = api_result2['RelevantInput'].apply(remove_whatsapp_emojis)\n",
    "api_result2['CleanedInput'] = api_result2['CleanedInput'].apply(remove_whatsapp_emojis)\n",
    "api_result2['MarkedInput'] = api_result2['MarkedInput'].apply(remove_whatsapp_emojis)\n",
    "\n",
    "api_result2['RelevantInput'] = api_result2['RelevantInput'].apply(str_strip)\n",
    "api_result2['CleanedInput'] = api_result2['CleanedInput'].apply(str_strip)\n",
    "end = time.time()\n",
    "\n",
    "print('Process finished! Time elapsed = ' + str((end - begin)) +' seconds')"
   ]
  },
  {
   "cell_type": "code",
   "execution_count": 15,
   "metadata": {},
   "outputs": [],
   "source": [
    "final_data = api_result2\n",
    "final_data['MarkedInput'] = api_result1['MarkedInput']"
   ]
  },
  {
   "cell_type": "code",
   "execution_count": 16,
   "metadata": {},
   "outputs": [],
   "source": [
    "final_data.to_csv('localizawa_test.csv',encoding='utf-8',sep='|',index=False)"
   ]
  },
  {
   "cell_type": "code",
   "execution_count": 17,
   "metadata": {},
   "outputs": [],
   "source": [
    "final_data = final_data[final_data['RelevantInput'].apply(is_significant) & \n",
    "                        ~final_data['RelevantInput'].apply(message_is_empty) &\n",
    "                        ~final_data['RelevantInput'].apply(is_bot_test) &\n",
    "                        ~final_data['RelevantInput'].apply(is_uri) &\n",
    "                        ~final_data['RelevantInput'].apply(is_numeric)]\n",
    "final_data.to_csv('localizawa_test.csv',encoding='utf-8',sep='|',index=False)   "
   ]
  },
  {
   "cell_type": "code",
   "execution_count": 19,
   "metadata": {},
   "outputs": [
    {
     "data": {
      "text/plain": [
       "array([], dtype=object)"
      ]
     },
     "execution_count": 19,
     "metadata": {},
     "output_type": "execute_result"
    }
   ],
   "source": [
    "final_data[final_data['RelevantInput'].apply(is_numeric)]['RelevantInput'].values"
   ]
  },
  {
   "cell_type": "code",
   "execution_count": 21,
   "metadata": {},
   "outputs": [],
   "source": [
    "def has_word_in_message(msg):\n",
    "    if type(msg) is str:\n",
    "        return ' cpf ' in msg\n",
    "    else:\n",
    "        return False"
   ]
  },
  {
   "cell_type": "code",
   "execution_count": 28,
   "metadata": {},
   "outputs": [
    {
     "data": {
      "text/plain": [
       "[   SequentialId Content\n",
       " 0     290410271    oiii,    SequentialId             Content\n",
       " 1     280691796  requisitos aluguel,    SequentialId             Content\n",
       " 2     280697119  requisitos aluguel,    SequentialId Content\n",
       " 3     280691490      oi,    SequentialId                             Content\n",
       " 4     231821173  o que preciso para alugar um carro]"
      ]
     },
     "execution_count": 28,
     "metadata": {},
     "output_type": "execute_result"
    }
   ],
   "source": [
    "np.array_split(data[['SequentialId','Content']].head(), 5)"
   ]
  },
  {
   "cell_type": "code",
   "execution_count": null,
   "metadata": {},
   "outputs": [],
   "source": []
  }
 ],
 "metadata": {
  "kernelspec": {
   "display_name": "Python 3",
   "language": "python",
   "name": "python3"
  },
  "language_info": {
   "codemirror_mode": {
    "name": "ipython",
    "version": 3
   },
   "file_extension": ".py",
   "mimetype": "text/x-python",
   "name": "python",
   "nbconvert_exporter": "python",
   "pygments_lexer": "ipython3",
   "version": "3.6.5"
  }
 },
 "nbformat": 4,
 "nbformat_minor": 2
}
